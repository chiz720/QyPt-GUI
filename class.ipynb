{
 "cells": [
  {
   "cell_type": "code",
   "execution_count": 4,
   "metadata": {},
   "outputs": [
    {
     "name": "stdout",
     "output_type": "stream",
     "text": [
      "Welcome: idris\n",
      "Updated: 320\n"
     ]
    }
   ],
   "source": [
    "class App():# class/ capitalized\n",
    "    def __init__(self,users,storage,username): # method: function within a class\n",
    "        self.users=users\n",
    "        self.storage=storage\n",
    "        self.username=username\n",
    "\n",
    "    def login(self):\n",
    "        if self.username==\"idris\" and self.users >=1:\n",
    "            print(\"Welcome:\", self.username)\n",
    "        else:\n",
    "            print(\"You are not a user\")\n",
    "\n",
    "    def increase_capacity(self,number):\n",
    "        self.storage+=number\n",
    "        print(\"Updated:\", self.storage)\n",
    "\n",
    "admin=App(100,256,\"idris\") # object (value of an object is class)\n",
    "\n",
    "admin.login()\n",
    "admin.increase_capacity(64)"
   ]
  }
 ],
 "metadata": {
  "kernelspec": {
   "display_name": "Python 3",
   "language": "python",
   "name": "python3"
  },
  "language_info": {
   "codemirror_mode": {
    "name": "ipython",
    "version": 3
   },
   "file_extension": ".py",
   "mimetype": "text/x-python",
   "name": "python",
   "nbconvert_exporter": "python",
   "pygments_lexer": "ipython3",
   "version": "3.11.8"
  }
 },
 "nbformat": 4,
 "nbformat_minor": 2
}
